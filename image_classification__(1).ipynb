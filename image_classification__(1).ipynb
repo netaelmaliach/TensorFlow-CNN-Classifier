{
  "nbformat": 4,
  "nbformat_minor": 0,
  "metadata": {
    "colab": {
      "provenance": []
    },
    "kernelspec": {
      "name": "python3",
      "display_name": "Python 3"
    },
    "language_info": {
      "name": "python"
    }
  },
  "cells": [
    {
      "cell_type": "code",
      "execution_count": null,
      "metadata": {
        "id": "qlrMvPYdVlI-"
      },
      "outputs": [],
      "source": [
        "!pip install tensorflow opencv-python matplotlib keras"
      ]
    },
    {
      "cell_type": "code",
      "source": [
        "import numpy as np\n",
        "from matplotlib import pyplot as plt\n",
        "import tensorflow as tf\n",
        "from tensorflow.keras.models import Sequential\n",
        "from tensorflow.keras.layers import Dense, Dropout, Activation, Flatten, Conv2D, MaxPooling2D\n",
        "import cv2\n",
        "import os\n",
        "import random\n",
        "import pickle\n",
        "from google.colab import files\n",
        "from sklearn.metrics import confusion_matrix\n",
        "import seaborn as sns"
      ],
      "metadata": {
        "id": "32qj9LKPXXvf"
      },
      "execution_count": null,
      "outputs": []
    },
    {
      "cell_type": "code",
      "source": [
        "TARGETS = [ \"non_drones\", \"drones\"]\n",
        "TRAIN_DATA_PATH = \"/content/train_images\"\n",
        "VAL_DATA_PATH = \"/content/val_images\"\n",
        "TEST_DATA_PATH = \"/content/test_images\""
      ],
      "metadata": {
        "id": "TNoqox6WXZn8"
      },
      "execution_count": null,
      "outputs": []
    },
    {
      "cell_type": "markdown",
      "source": [
        "# 1. Load & process data\n"
      ],
      "metadata": {
        "id": "VE_HvDDuXg2u"
      }
    },
    {
      "cell_type": "markdown",
      "source": [
        "The load_data function go throguh a current folder path using os libary and create 2D list that contains: (image, label) pairs where the label indicates if the image is a drone(1) or not(0).\n",
        "\n"
      ],
      "metadata": {
        "id": "1qhdRMwOXh2j"
      }
    },
    {
      "cell_type": "code",
      "source": [
        "def load_data(data_path):\n",
        "    data = []\n",
        "    for target in TARGETS:\n",
        "        path = os.path.join(data_path, target)\n",
        "        label = TARGETS.index(target)\n",
        "        for img in os.listdir(path):\n",
        "            img_arr = cv2.imread(os.path.join(path,img), cv2.IMREAD_GRAYSCALE)\n",
        "            data.append([img_arr, label])\n",
        "    return data"
      ],
      "metadata": {
        "id": "l_9-UK1uXm1H"
      },
      "execution_count": null,
      "outputs": []
    },
    {
      "cell_type": "markdown",
      "source": [
        "The prepare_data function go throguh each image-label pair and extract the features(image array) and the matching label. After iterating through all pairs, it converts the lists of features (X) and labels (Y) into numpy arrays. In addition, reshapes the X array to 4D as expectd in the model later."
      ],
      "metadata": {
        "id": "Z8y9-JJ1Xpg3"
      }
    },
    {
      "cell_type": "code",
      "source": [
        "def prepare_data (data):\n",
        "    X = []\n",
        "    Y = []\n",
        "    for features, label in data:\n",
        "        X.append(features)\n",
        "        Y.append(label)\n",
        "    X = np.array(X).reshape(-1, 50, 50, 1)\n",
        "    Y = np.array(Y)\n",
        "    return X, Y"
      ],
      "metadata": {
        "id": "kE4zfudbXqfj"
      },
      "execution_count": null,
      "outputs": []
    },
    {
      "cell_type": "markdown",
      "source": [
        "Load and save the data"
      ],
      "metadata": {
        "id": "JmNiXgliYdeu"
      }
    },
    {
      "cell_type": "code",
      "source": [
        "train_data = load_data(TRAIN_DATA_PATH)\n",
        "val_data = load_data(VAL_DATA_PATH)\n",
        "test_data = load_data(TEST_DATA_PATH)"
      ],
      "metadata": {
        "id": "T3cVr1YcXufK"
      },
      "execution_count": null,
      "outputs": []
    },
    {
      "cell_type": "code",
      "source": [
        "with open('train_data.pkl', 'wb') as f:\n",
        "    pickle.dump(train_data, f)\n",
        "\n",
        "with open('val_data.pkl', 'wb') as f:\n",
        "    pickle.dump(val_data, f)\n",
        "\n",
        "with open('test_data.pkl', 'wb') as f:\n",
        "    pickle.dump(test_data, f)"
      ],
      "metadata": {
        "id": "n22GVuTsX9Dn"
      },
      "execution_count": null,
      "outputs": []
    },
    {
      "cell_type": "code",
      "source": [
        "files.download('train_data.pkl')\n",
        "files.download('val_data.pkl')\n",
        "files.download('test_data.pkl')"
      ],
      "metadata": {
        "colab": {
          "base_uri": "https://localhost:8080/",
          "height": 17
        },
        "id": "Om93_bJJYO-3",
        "outputId": "d8fc3cd6-6f04-4769-f525-e81130c780ee"
      },
      "execution_count": null,
      "outputs": [
        {
          "output_type": "display_data",
          "data": {
            "text/plain": [
              "<IPython.core.display.Javascript object>"
            ],
            "application/javascript": [
              "\n",
              "    async function download(id, filename, size) {\n",
              "      if (!google.colab.kernel.accessAllowed) {\n",
              "        return;\n",
              "      }\n",
              "      const div = document.createElement('div');\n",
              "      const label = document.createElement('label');\n",
              "      label.textContent = `Downloading \"${filename}\": `;\n",
              "      div.appendChild(label);\n",
              "      const progress = document.createElement('progress');\n",
              "      progress.max = size;\n",
              "      div.appendChild(progress);\n",
              "      document.body.appendChild(div);\n",
              "\n",
              "      const buffers = [];\n",
              "      let downloaded = 0;\n",
              "\n",
              "      const channel = await google.colab.kernel.comms.open(id);\n",
              "      // Send a message to notify the kernel that we're ready.\n",
              "      channel.send({})\n",
              "\n",
              "      for await (const message of channel.messages) {\n",
              "        // Send a message to notify the kernel that we're ready.\n",
              "        channel.send({})\n",
              "        if (message.buffers) {\n",
              "          for (const buffer of message.buffers) {\n",
              "            buffers.push(buffer);\n",
              "            downloaded += buffer.byteLength;\n",
              "            progress.value = downloaded;\n",
              "          }\n",
              "        }\n",
              "      }\n",
              "      const blob = new Blob(buffers, {type: 'application/binary'});\n",
              "      const a = document.createElement('a');\n",
              "      a.href = window.URL.createObjectURL(blob);\n",
              "      a.download = filename;\n",
              "      div.appendChild(a);\n",
              "      a.click();\n",
              "      div.remove();\n",
              "    }\n",
              "  "
            ]
          },
          "metadata": {}
        },
        {
          "output_type": "display_data",
          "data": {
            "text/plain": [
              "<IPython.core.display.Javascript object>"
            ],
            "application/javascript": [
              "download(\"download_3bafddca-dc5b-4687-9e7d-17e00ad2ab73\", \"train_data.pkl\", 2366107)"
            ]
          },
          "metadata": {}
        },
        {
          "output_type": "display_data",
          "data": {
            "text/plain": [
              "<IPython.core.display.Javascript object>"
            ],
            "application/javascript": [
              "\n",
              "    async function download(id, filename, size) {\n",
              "      if (!google.colab.kernel.accessAllowed) {\n",
              "        return;\n",
              "      }\n",
              "      const div = document.createElement('div');\n",
              "      const label = document.createElement('label');\n",
              "      label.textContent = `Downloading \"${filename}\": `;\n",
              "      div.appendChild(label);\n",
              "      const progress = document.createElement('progress');\n",
              "      progress.max = size;\n",
              "      div.appendChild(progress);\n",
              "      document.body.appendChild(div);\n",
              "\n",
              "      const buffers = [];\n",
              "      let downloaded = 0;\n",
              "\n",
              "      const channel = await google.colab.kernel.comms.open(id);\n",
              "      // Send a message to notify the kernel that we're ready.\n",
              "      channel.send({})\n",
              "\n",
              "      for await (const message of channel.messages) {\n",
              "        // Send a message to notify the kernel that we're ready.\n",
              "        channel.send({})\n",
              "        if (message.buffers) {\n",
              "          for (const buffer of message.buffers) {\n",
              "            buffers.push(buffer);\n",
              "            downloaded += buffer.byteLength;\n",
              "            progress.value = downloaded;\n",
              "          }\n",
              "        }\n",
              "      }\n",
              "      const blob = new Blob(buffers, {type: 'application/binary'});\n",
              "      const a = document.createElement('a');\n",
              "      a.href = window.URL.createObjectURL(blob);\n",
              "      a.download = filename;\n",
              "      div.appendChild(a);\n",
              "      a.click();\n",
              "      div.remove();\n",
              "    }\n",
              "  "
            ]
          },
          "metadata": {}
        },
        {
          "output_type": "display_data",
          "data": {
            "text/plain": [
              "<IPython.core.display.Javascript object>"
            ],
            "application/javascript": [
              "download(\"download_b138d249-e99b-4272-8d69-267e09613736\", \"val_data.pkl\", 1016656)"
            ]
          },
          "metadata": {}
        },
        {
          "output_type": "display_data",
          "data": {
            "text/plain": [
              "<IPython.core.display.Javascript object>"
            ],
            "application/javascript": [
              "\n",
              "    async function download(id, filename, size) {\n",
              "      if (!google.colab.kernel.accessAllowed) {\n",
              "        return;\n",
              "      }\n",
              "      const div = document.createElement('div');\n",
              "      const label = document.createElement('label');\n",
              "      label.textContent = `Downloading \"${filename}\": `;\n",
              "      div.appendChild(label);\n",
              "      const progress = document.createElement('progress');\n",
              "      progress.max = size;\n",
              "      div.appendChild(progress);\n",
              "      document.body.appendChild(div);\n",
              "\n",
              "      const buffers = [];\n",
              "      let downloaded = 0;\n",
              "\n",
              "      const channel = await google.colab.kernel.comms.open(id);\n",
              "      // Send a message to notify the kernel that we're ready.\n",
              "      channel.send({})\n",
              "\n",
              "      for await (const message of channel.messages) {\n",
              "        // Send a message to notify the kernel that we're ready.\n",
              "        channel.send({})\n",
              "        if (message.buffers) {\n",
              "          for (const buffer of message.buffers) {\n",
              "            buffers.push(buffer);\n",
              "            downloaded += buffer.byteLength;\n",
              "            progress.value = downloaded;\n",
              "          }\n",
              "        }\n",
              "      }\n",
              "      const blob = new Blob(buffers, {type: 'application/binary'});\n",
              "      const a = document.createElement('a');\n",
              "      a.href = window.URL.createObjectURL(blob);\n",
              "      a.download = filename;\n",
              "      div.appendChild(a);\n",
              "      a.click();\n",
              "      div.remove();\n",
              "    }\n",
              "  "
            ]
          },
          "metadata": {}
        },
        {
          "output_type": "display_data",
          "data": {
            "text/plain": [
              "<IPython.core.display.Javascript object>"
            ],
            "application/javascript": [
              "download(\"download_d1befef2-0d3f-43bd-ac18-f983c6222838\", \"test_data.pkl\", 1016656)"
            ]
          },
          "metadata": {}
        }
      ]
    },
    {
      "cell_type": "code",
      "source": [
        "random.shuffle(train_data)\n",
        "random.shuffle(val_data)\n",
        "random.shuffle(test_data)"
      ],
      "metadata": {
        "id": "BI1w6OP2YjtP"
      },
      "execution_count": null,
      "outputs": []
    },
    {
      "cell_type": "code",
      "source": [
        "x_train, y_train = prepare_data(train_data)\n",
        "x_val, y_val = prepare_data(val_data)\n",
        "x_test, y_test = prepare_data(test_data)"
      ],
      "metadata": {
        "id": "1jo2PRilYmVy"
      },
      "execution_count": null,
      "outputs": []
    },
    {
      "cell_type": "markdown",
      "source": [
        "Scaling the values of the input features(pixel values of an image) to a range between 0 and 1"
      ],
      "metadata": {
        "id": "TuIbuBWoYpdV"
      }
    },
    {
      "cell_type": "code",
      "source": [
        "x_train = x_train/255.0\n",
        "x_val = x_val/255.0\n",
        "x_test = x_test/255.0"
      ],
      "metadata": {
        "id": "FYK6QU4JYqQa"
      },
      "execution_count": null,
      "outputs": []
    },
    {
      "cell_type": "markdown",
      "source": [
        "# 2. Convolutional neural network (CNN) model\n",
        "\n"
      ],
      "metadata": {
        "id": "AMxr__hLYuF3"
      }
    },
    {
      "cell_type": "markdown",
      "source": [
        "The model is sequential-  build layer by layer. Here there are 3 convolutional and pooling layers to extract features from the data with ReLu activation function that introduces non-linearity to the model."
      ],
      "metadata": {
        "id": "24WRJw08Ywgp"
      }
    },
    {
      "cell_type": "code",
      "source": [
        "model = Sequential()\n",
        "model.add(Conv2D(128, (5,5), input_shape = (50,50,1)))\n",
        "model.add(Activation(\"relu\"))\n",
        "model.add(MaxPooling2D (pool_size = (3,3)))\n",
        "\n",
        "model.add(Conv2D(128, (5,5)))\n",
        "model.add(Activation(\"relu\"))\n",
        "model.add(MaxPooling2D (pool_size = (3,3)))"
      ],
      "metadata": {
        "id": "wNIKvfqcYy1D"
      },
      "execution_count": null,
      "outputs": []
    },
    {
      "cell_type": "markdown",
      "source": [
        "The final layers of the model are flattening the feature maps extracted by the convolutional layers and passing them through dense layers for binary classification using the sigmoid probability function"
      ],
      "metadata": {
        "id": "qyYpDVdCY1Bx"
      }
    },
    {
      "cell_type": "code",
      "source": [
        "model.add(Flatten())\n",
        "model.add(Dense(128))\n",
        "\n",
        "model.add(Dense(1))\n",
        "model.add(Activation('sigmoid'))"
      ],
      "metadata": {
        "id": "1Re-yuJUY315"
      },
      "execution_count": null,
      "outputs": []
    },
    {
      "cell_type": "code",
      "source": [
        "model.compile(loss = \"binary_crossentropy\",optimizer = \"adam\", metrics = [\"accuracy\"])\n",
        "\n",
        "model.fit(x_train, y_train,validation_data=(x_val, y_val), epochs = 10)"
      ],
      "metadata": {
        "colab": {
          "base_uri": "https://localhost:8080/"
        },
        "id": "zcTgrzJkY5uP",
        "outputId": "ae7a428a-64df-4dba-929f-f8de9eda92b2"
      },
      "execution_count": null,
      "outputs": [
        {
          "output_type": "stream",
          "name": "stdout",
          "text": [
            "Epoch 1/10\n",
            "30/30 [==============================] - 18s 573ms/step - loss: 0.6613 - accuracy: 0.5929 - val_loss: 0.6115 - val_accuracy: 0.6075\n",
            "Epoch 2/10\n",
            "30/30 [==============================] - 20s 665ms/step - loss: 0.4772 - accuracy: 0.7830 - val_loss: 0.5500 - val_accuracy: 0.7700\n",
            "Epoch 3/10\n",
            "30/30 [==============================] - 18s 575ms/step - loss: 0.3960 - accuracy: 0.8303 - val_loss: 0.5675 - val_accuracy: 0.7625\n",
            "Epoch 4/10\n",
            "30/30 [==============================] - 11s 366ms/step - loss: 0.3491 - accuracy: 0.8475 - val_loss: 0.5386 - val_accuracy: 0.7550\n",
            "Epoch 5/10\n",
            "30/30 [==============================] - 11s 366ms/step - loss: 0.3208 - accuracy: 0.8743 - val_loss: 0.5077 - val_accuracy: 0.7775\n",
            "Epoch 6/10\n",
            "30/30 [==============================] - 11s 356ms/step - loss: 0.2640 - accuracy: 0.9001 - val_loss: 0.5395 - val_accuracy: 0.7725\n",
            "Epoch 7/10\n",
            "30/30 [==============================] - 11s 362ms/step - loss: 0.2271 - accuracy: 0.9098 - val_loss: 0.4950 - val_accuracy: 0.7825\n",
            "Epoch 8/10\n",
            "30/30 [==============================] - 10s 336ms/step - loss: 0.1906 - accuracy: 0.9216 - val_loss: 0.5745 - val_accuracy: 0.7800\n",
            "Epoch 9/10\n",
            "30/30 [==============================] - 10s 333ms/step - loss: 0.1696 - accuracy: 0.9345 - val_loss: 0.5661 - val_accuracy: 0.7975\n",
            "Epoch 10/10\n",
            "30/30 [==============================] - 11s 366ms/step - loss: 0.1361 - accuracy: 0.9506 - val_loss: 0.6213 - val_accuracy: 0.7925\n"
          ]
        },
        {
          "output_type": "execute_result",
          "data": {
            "text/plain": [
              "<keras.src.callbacks.History at 0x7e7f86b469e0>"
            ]
          },
          "metadata": {},
          "execution_count": 139
        }
      ]
    },
    {
      "cell_type": "markdown",
      "source": [
        "# 3. Model results"
      ],
      "metadata": {
        "id": "YCJOpPBfY8w1"
      }
    },
    {
      "cell_type": "code",
      "source": [
        "loss, accuracy = model.evaluate(x_test, y_test)\n",
        "\n",
        "print(\"Test Loss:\", loss)\n",
        "print(\"Test Accuracy:\", accuracy)"
      ],
      "metadata": {
        "colab": {
          "base_uri": "https://localhost:8080/"
        },
        "id": "D8BruDjcc3vQ",
        "outputId": "dc29874a-6bd5-4391-c1e4-e8c082886329"
      },
      "execution_count": null,
      "outputs": [
        {
          "output_type": "stream",
          "name": "stdout",
          "text": [
            "13/13 [==============================] - 2s 153ms/step - loss: 0.5785 - accuracy: 0.8225\n",
            "Test Loss: 0.5784544944763184\n",
            "Test Accuracy: 0.8224999904632568\n"
          ]
        }
      ]
    },
    {
      "cell_type": "code",
      "source": [
        "probabilities = model.predict(x_test)\n",
        "binary_labels = (probabilities > 0.5).astype(int)"
      ],
      "metadata": {
        "colab": {
          "base_uri": "https://localhost:8080/"
        },
        "id": "iAisrkgLZAXg",
        "outputId": "015a05e1-998a-4480-c52c-2bbb6882bd48"
      },
      "execution_count": null,
      "outputs": [
        {
          "output_type": "stream",
          "name": "stdout",
          "text": [
            "13/13 [==============================] - 2s 166ms/step\n"
          ]
        }
      ]
    },
    {
      "cell_type": "markdown",
      "source": [
        "Show 4 random images from the test data with their true and predicted labels"
      ],
      "metadata": {
        "id": "qTLKTMriZD55"
      }
    },
    {
      "cell_type": "code",
      "source": [
        "random_indices = random.sample(range(len(x_test)), 4)\n",
        "\n",
        "plt.figure(figsize=(12, 8))\n",
        "for i, idx in enumerate(random_indices):\n",
        "    plt.subplot(2, 2, i+1)\n",
        "    plt.imshow(x_test[idx].reshape(50, 50), cmap='gray', interpolation='nearest')\n",
        "    true_label = y_test[idx]\n",
        "    predicted_label = binary_labels[idx][0]\n",
        "    plt.title(f'True: {true_label}, Predicted: {predicted_label}')\n",
        "    plt.axis('off')\n",
        "plt.show()"
      ],
      "metadata": {
        "colab": {
          "base_uri": "https://localhost:8080/",
          "height": 675
        },
        "id": "AkHxv3iqZEaY",
        "outputId": "26f90af4-d3f8-4995-e490-d07caa6fe62a"
      },
      "execution_count": null,
      "outputs": [
        {
          "output_type": "display_data",
          "data": {
            "text/plain": [
              "<Figure size 1200x800 with 4 Axes>"
            ],
            "image/png": "[encoded data removed]"
          },
          "metadata": {}
        }
      ]
    },
    {
      "cell_type": "markdown",
      "source": [
        "Confusion matrix"
      ],
      "metadata": {
        "id": "Noj9sb1_ZH4p"
      }
    },
    {
      "cell_type": "code",
      "source": [
        "cm = confusion_matrix(y_test, binary_labels)\n",
        "\n",
        "plt.figure(figsize=(8, 6))\n",
        "sns.heatmap(cm, annot=True, fmt='d', cmap='Blues', xticklabels=['Non-Drone', 'Drone'], yticklabels=['Non-Drone', 'Drone'])\n",
        "plt.xlabel('Predicted Label')\n",
        "plt.ylabel('True Label')\n",
        "plt.title('Confusion Matrix')\n",
        "plt.show()"
      ],
      "metadata": {
        "colab": {
          "base_uri": "https://localhost:8080/",
          "height": 564
        },
        "id": "BqOQtal5ZIQm",
        "outputId": "7708e5bd-59a6-4f5b-a67c-e19ba37cd66e"
      },
      "execution_count": null,
      "outputs": [
        {
          "output_type": "display_data",
          "data": {
            "text/plain": [
              "<Figure size 800x600 with 2 Axes>"
            ],
            "image/png": "[encoded data removed]"
          },
          "metadata": {}
        }
      ]
    },
    {
      "cell_type": "markdown",
      "source": [
        "Save as TFLite model"
      ],
      "metadata": {
        "id": "Lt8xfII3gEpH"
      }
    },
    {
      "cell_type": "code",
      "source": [
        "converter = tf.lite.TFLiteConverter.from_keras_model(model)\n",
        "tflite_model = converter.convert()\n",
        "\n",
        "with open('image_classification_model.tflite', 'wb') as f:\n",
        "    f.write(tflite_model)"
      ],
      "metadata": {
        "id": "2dpKP_InfGuR"
      },
      "execution_count": null,
      "outputs": []
    },
    {
      "cell_type": "markdown",
      "source": [
        "# 4.  load the model and perform on input images"
      ],
      "metadata": {
        "id": "pXJx-1vkgJq5"
      }
    },
    {
      "cell_type": "code",
      "source": [
        "interpreter = tf.lite.Interpreter(model_path='image_classification_model.tflite')\n",
        "interpreter.allocate_tensors()\n",
        "input_details = interpreter.get_input_details()\n",
        "output_details = interpreter.get_output_details()\n",
        "\n",
        "random_index = random.randint(0, len(x_test) - 1)\n",
        "random_image = x_test[random_index]\n",
        "random_image = random_image.astype(np.float32)\n",
        "random_label = y_test[random_index]\n",
        "\n",
        "interpreter.set_tensor(input_details[0]['index'], np.expand_dims(random_image, axis=0))\n",
        "interpreter.invoke()\n",
        "output = interpreter.get_tensor(output_details[0]['index'])\n",
        "binary_prediction = (output > 0.5).astype(int)\n",
        "\n",
        "plt.imshow(random_image.reshape(50, 50), cmap='gray')\n",
        "plt.title(f'True Label: {random_label}, Predicted Label: {binary_prediction[0]}')\n",
        "plt.axis('off')\n",
        "plt.show()\n",
        "\n"
      ],
      "metadata": {
        "colab": {
          "base_uri": "https://localhost:8080/",
          "height": 428
        },
        "id": "gVZfcsvwgC4y",
        "outputId": "1fde5fd8-45c1-4408-c6f3-2e90a49dd8f9"
      },
      "execution_count": null,
      "outputs": [
        {
          "output_type": "display_data",
          "data": {
            "text/plain": [
              "<Figure size 640x480 with 1 Axes>"
            ],
            "image/png": "[encoded data removed]"
          },
          "metadata": {}
        }
      ]
    }
  ]
}